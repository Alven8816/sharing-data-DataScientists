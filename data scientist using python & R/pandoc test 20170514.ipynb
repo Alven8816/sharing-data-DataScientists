{
 "cells": [
  {
   "cell_type": "markdown",
   "metadata": {
    "toc": "true"
   },
   "source": [
    "# Table of Contents\n",
    " <p><div class=\"lev1 toc-item\"><a href=\"#数据科学探索（python-与-R-的比较）\" data-toc-modified-id=\"数据科学探索（python-与-R-的比较）-1\"><span class=\"toc-item-num\">1&nbsp;&nbsp;</span>数据科学探索（python 与 R 的比较）</a></div><div class=\"lev2 toc-item\"><a href=\"#数据读取\" data-toc-modified-id=\"数据读取-11\"><span class=\"toc-item-num\">1.1&nbsp;&nbsp;</span>数据读取</a></div><div class=\"lev3 toc-item\"><a href=\"#Python\" data-toc-modified-id=\"Python-111\"><span class=\"toc-item-num\">1.1.1&nbsp;&nbsp;</span>Python</a></div><div class=\"lev3 toc-item\"><a href=\"#R\" data-toc-modified-id=\"R-112\"><span class=\"toc-item-num\">1.1.2&nbsp;&nbsp;</span>R</a></div><div class=\"lev2 toc-item\"><a href=\"#数据描述\" data-toc-modified-id=\"数据描述-12\"><span class=\"toc-item-num\">1.2&nbsp;&nbsp;</span>数据描述</a></div><div class=\"lev3 toc-item\"><a href=\"#python\" data-toc-modified-id=\"python-121\"><span class=\"toc-item-num\">1.2.1&nbsp;&nbsp;</span>python</a></div><div class=\"lev3 toc-item\"><a href=\"#R\" data-toc-modified-id=\"R-122\"><span class=\"toc-item-num\">1.2.2&nbsp;&nbsp;</span>R</a></div><div class=\"lev2 toc-item\"><a href=\"#数据处理\" data-toc-modified-id=\"数据处理-13\"><span class=\"toc-item-num\">1.3&nbsp;&nbsp;</span>数据处理</a></div><div class=\"lev3 toc-item\"><a href=\"#python\" data-toc-modified-id=\"python-131\"><span class=\"toc-item-num\">1.3.1&nbsp;&nbsp;</span>python</a></div><div class=\"lev3 toc-item\"><a href=\"#R\" data-toc-modified-id=\"R-132\"><span class=\"toc-item-num\">1.3.2&nbsp;&nbsp;</span>R</a></div><div class=\"lev2 toc-item\"><a href=\"#建立预测模型\" data-toc-modified-id=\"建立预测模型-14\"><span class=\"toc-item-num\">1.4&nbsp;&nbsp;</span>建立预测模型</a></div><div class=\"lev3 toc-item\"><a href=\"#python\" data-toc-modified-id=\"python-141\"><span class=\"toc-item-num\">1.4.1&nbsp;&nbsp;</span>python</a></div><div class=\"lev3 toc-item\"><a href=\"#R\" data-toc-modified-id=\"R-142\"><span class=\"toc-item-num\">1.4.2&nbsp;&nbsp;</span>R</a></div><div class=\"lev2 toc-item\"><a href=\"#Logistic\" data-toc-modified-id=\"Logistic-15\"><span class=\"toc-item-num\">1.5&nbsp;&nbsp;</span>Logistic</a></div><div class=\"lev3 toc-item\"><a href=\"#python\" data-toc-modified-id=\"python-151\"><span class=\"toc-item-num\">1.5.1&nbsp;&nbsp;</span>python</a></div><div class=\"lev3 toc-item\"><a href=\"#R\" data-toc-modified-id=\"R-152\"><span class=\"toc-item-num\">1.5.2&nbsp;&nbsp;</span>R</a></div><div class=\"lev2 toc-item\"><a href=\"#决策树\" data-toc-modified-id=\"决策树-16\"><span class=\"toc-item-num\">1.6&nbsp;&nbsp;</span>决策树</a></div><div class=\"lev3 toc-item\"><a href=\"#python\" data-toc-modified-id=\"python-161\"><span class=\"toc-item-num\">1.6.1&nbsp;&nbsp;</span>python</a></div><div class=\"lev3 toc-item\"><a href=\"#R\" data-toc-modified-id=\"R-162\"><span class=\"toc-item-num\">1.6.2&nbsp;&nbsp;</span>R</a></div><div class=\"lev2 toc-item\"><a href=\"#随机森林\" data-toc-modified-id=\"随机森林-17\"><span class=\"toc-item-num\">1.7&nbsp;&nbsp;</span>随机森林</a></div><div class=\"lev3 toc-item\"><a href=\"#python\" data-toc-modified-id=\"python-171\"><span class=\"toc-item-num\">1.7.1&nbsp;&nbsp;</span>python</a></div><div class=\"lev3 toc-item\"><a href=\"#R\" data-toc-modified-id=\"R-172\"><span class=\"toc-item-num\">1.7.2&nbsp;&nbsp;</span>R</a></div>"
   ]
  },
  {
   "cell_type": "markdown",
   "metadata": {},
   "source": [
    "# 数据科学探索（python 与 R 的比较）"
   ]
  },
  {
   "cell_type": "markdown",
   "metadata": {},
   "source": [
    "    分别应用python和R 2种工具对某真实信贷数据进行分析，通过数据的读取、清洗、探索、模型构建等，比较2种方法在机器学习数据科学上的实现。"
   ]
  },
  {
   "cell_type": "markdown",
   "metadata": {},
   "source": [
    "## 数据读取"
   ]
  },
  {
   "cell_type": "markdown",
   "metadata": {},
   "source": [
    "    数据来源于[Analytics Vidhya](https://datahack.analyticsvidhya.com/contest/practice-problem-loan-prediction-iii/) 房屋信贷公司根据贷款人的年龄、性别、婚否、家庭成员、收入、信用贷款等相关信息，预测是否予以贷款。"
   ]
  },
  {
   "cell_type": "markdown",
   "metadata": {},
   "source": [
    "### Python "
   ]
  },
  {
   "cell_type": "code",
   "execution_count": 1,
   "metadata": {
    "collapsed": false
   },
   "outputs": [],
   "source": [
    "%matplotlib inline "
   ]
  },
  {
   "cell_type": "code",
   "execution_count": 2,
   "metadata": {
    "collapsed": false
   },
   "outputs": [],
   "source": [
    "import pandas as pd\n",
    "import numpy as np\n",
    "import matplotlib.pyplot as plt"
   ]
  },
  {
   "cell_type": "code",
   "execution_count": 3,
   "metadata": {
    "collapsed": false
   },
   "outputs": [],
   "source": [
    "df = pd.read_csv(\"C:/Users/HP/Desktop/train.csv\")"
   ]
  },
  {
   "cell_type": "code",
   "execution_count": 4,
   "metadata": {
    "collapsed": false,
    "scrolled": true
   },
   "outputs": [
    {
     "data": {
      "text/html": [
       "<div>\n",
       "<table border=\"1\" class=\"dataframe\">\n",
       "  <thead>\n",
       "    <tr style=\"text-align: right;\">\n",
       "      <th></th>\n",
       "      <th>Loan_ID</th>\n",
       "      <th>Gender</th>\n",
       "      <th>Married</th>\n",
       "      <th>Dependents</th>\n",
       "      <th>Education</th>\n",
       "      <th>Self_Employed</th>\n",
       "      <th>ApplicantIncome</th>\n",
       "      <th>CoapplicantIncome</th>\n",
       "      <th>LoanAmount</th>\n",
       "      <th>Loan_Amount_Term</th>\n",
       "      <th>Credit_History</th>\n",
       "      <th>Property_Area</th>\n",
       "      <th>Loan_Status</th>\n",
       "    </tr>\n",
       "  </thead>\n",
       "  <tbody>\n",
       "    <tr>\n",
       "      <th>0</th>\n",
       "      <td>LP001002</td>\n",
       "      <td>Male</td>\n",
       "      <td>No</td>\n",
       "      <td>0</td>\n",
       "      <td>Graduate</td>\n",
       "      <td>No</td>\n",
       "      <td>5849</td>\n",
       "      <td>0.0</td>\n",
       "      <td>NaN</td>\n",
       "      <td>360.0</td>\n",
       "      <td>1.0</td>\n",
       "      <td>Urban</td>\n",
       "      <td>Y</td>\n",
       "    </tr>\n",
       "    <tr>\n",
       "      <th>1</th>\n",
       "      <td>LP001003</td>\n",
       "      <td>Male</td>\n",
       "      <td>Yes</td>\n",
       "      <td>1</td>\n",
       "      <td>Graduate</td>\n",
       "      <td>No</td>\n",
       "      <td>4583</td>\n",
       "      <td>1508.0</td>\n",
       "      <td>128.0</td>\n",
       "      <td>360.0</td>\n",
       "      <td>1.0</td>\n",
       "      <td>Rural</td>\n",
       "      <td>N</td>\n",
       "    </tr>\n",
       "    <tr>\n",
       "      <th>2</th>\n",
       "      <td>LP001005</td>\n",
       "      <td>Male</td>\n",
       "      <td>Yes</td>\n",
       "      <td>0</td>\n",
       "      <td>Graduate</td>\n",
       "      <td>Yes</td>\n",
       "      <td>3000</td>\n",
       "      <td>0.0</td>\n",
       "      <td>66.0</td>\n",
       "      <td>360.0</td>\n",
       "      <td>1.0</td>\n",
       "      <td>Urban</td>\n",
       "      <td>Y</td>\n",
       "    </tr>\n",
       "    <tr>\n",
       "      <th>3</th>\n",
       "      <td>LP001006</td>\n",
       "      <td>Male</td>\n",
       "      <td>Yes</td>\n",
       "      <td>0</td>\n",
       "      <td>Not Graduate</td>\n",
       "      <td>No</td>\n",
       "      <td>2583</td>\n",
       "      <td>2358.0</td>\n",
       "      <td>120.0</td>\n",
       "      <td>360.0</td>\n",
       "      <td>1.0</td>\n",
       "      <td>Urban</td>\n",
       "      <td>Y</td>\n",
       "    </tr>\n",
       "    <tr>\n",
       "      <th>4</th>\n",
       "      <td>LP001008</td>\n",
       "      <td>Male</td>\n",
       "      <td>No</td>\n",
       "      <td>0</td>\n",
       "      <td>Graduate</td>\n",
       "      <td>No</td>\n",
       "      <td>6000</td>\n",
       "      <td>0.0</td>\n",
       "      <td>141.0</td>\n",
       "      <td>360.0</td>\n",
       "      <td>1.0</td>\n",
       "      <td>Urban</td>\n",
       "      <td>Y</td>\n",
       "    </tr>\n",
       "  </tbody>\n",
       "</table>\n",
       "</div>"
      ],
      "text/plain": [
       "    Loan_ID Gender Married Dependents     Education Self_Employed  \\\n",
       "0  LP001002   Male      No          0      Graduate            No   \n",
       "1  LP001003   Male     Yes          1      Graduate            No   \n",
       "2  LP001005   Male     Yes          0      Graduate           Yes   \n",
       "3  LP001006   Male     Yes          0  Not Graduate            No   \n",
       "4  LP001008   Male      No          0      Graduate            No   \n",
       "\n",
       "   ApplicantIncome  CoapplicantIncome  LoanAmount  Loan_Amount_Term  \\\n",
       "0             5849                0.0         NaN             360.0   \n",
       "1             4583             1508.0       128.0             360.0   \n",
       "2             3000                0.0        66.0             360.0   \n",
       "3             2583             2358.0       120.0             360.0   \n",
       "4             6000                0.0       141.0             360.0   \n",
       "\n",
       "   Credit_History Property_Area Loan_Status  \n",
       "0             1.0         Urban           Y  \n",
       "1             1.0         Rural           N  \n",
       "2             1.0         Urban           Y  \n",
       "3             1.0         Urban           Y  \n",
       "4             1.0         Urban           Y  "
      ]
     },
     "execution_count": 4,
     "metadata": {},
     "output_type": "execute_result"
    }
   ],
   "source": [
    "df.head()"
   ]
  },
  {
   "cell_type": "code",
   "execution_count": 5,
   "metadata": {
    "collapsed": false
   },
   "outputs": [
    {
     "name": "stderr",
     "output_type": "stream",
     "text": [
      "D:\\anacond\\lib\\site-packages\\numpy\\lib\\function_base.py:3834: RuntimeWarning: Invalid value encountered in percentile\n",
      "  RuntimeWarning)\n"
     ]
    },
    {
     "data": {
      "text/html": [
       "<div>\n",
       "<table border=\"1\" class=\"dataframe\">\n",
       "  <thead>\n",
       "    <tr style=\"text-align: right;\">\n",
       "      <th></th>\n",
       "      <th>ApplicantIncome</th>\n",
       "      <th>CoapplicantIncome</th>\n",
       "      <th>LoanAmount</th>\n",
       "      <th>Loan_Amount_Term</th>\n",
       "      <th>Credit_History</th>\n",
       "    </tr>\n",
       "  </thead>\n",
       "  <tbody>\n",
       "    <tr>\n",
       "      <th>count</th>\n",
       "      <td>614.000000</td>\n",
       "      <td>614.000000</td>\n",
       "      <td>592.000000</td>\n",
       "      <td>600.00000</td>\n",
       "      <td>564.000000</td>\n",
       "    </tr>\n",
       "    <tr>\n",
       "      <th>mean</th>\n",
       "      <td>5403.459283</td>\n",
       "      <td>1621.245798</td>\n",
       "      <td>146.412162</td>\n",
       "      <td>342.00000</td>\n",
       "      <td>0.842199</td>\n",
       "    </tr>\n",
       "    <tr>\n",
       "      <th>std</th>\n",
       "      <td>6109.041673</td>\n",
       "      <td>2926.248369</td>\n",
       "      <td>85.587325</td>\n",
       "      <td>65.12041</td>\n",
       "      <td>0.364878</td>\n",
       "    </tr>\n",
       "    <tr>\n",
       "      <th>min</th>\n",
       "      <td>150.000000</td>\n",
       "      <td>0.000000</td>\n",
       "      <td>9.000000</td>\n",
       "      <td>12.00000</td>\n",
       "      <td>0.000000</td>\n",
       "    </tr>\n",
       "    <tr>\n",
       "      <th>25%</th>\n",
       "      <td>2877.500000</td>\n",
       "      <td>0.000000</td>\n",
       "      <td>NaN</td>\n",
       "      <td>NaN</td>\n",
       "      <td>NaN</td>\n",
       "    </tr>\n",
       "    <tr>\n",
       "      <th>50%</th>\n",
       "      <td>3812.500000</td>\n",
       "      <td>1188.500000</td>\n",
       "      <td>NaN</td>\n",
       "      <td>NaN</td>\n",
       "      <td>NaN</td>\n",
       "    </tr>\n",
       "    <tr>\n",
       "      <th>75%</th>\n",
       "      <td>5795.000000</td>\n",
       "      <td>2297.250000</td>\n",
       "      <td>NaN</td>\n",
       "      <td>NaN</td>\n",
       "      <td>NaN</td>\n",
       "    </tr>\n",
       "    <tr>\n",
       "      <th>max</th>\n",
       "      <td>81000.000000</td>\n",
       "      <td>41667.000000</td>\n",
       "      <td>700.000000</td>\n",
       "      <td>480.00000</td>\n",
       "      <td>1.000000</td>\n",
       "    </tr>\n",
       "  </tbody>\n",
       "</table>\n",
       "</div>"
      ],
      "text/plain": [
       "       ApplicantIncome  CoapplicantIncome  LoanAmount  Loan_Amount_Term  \\\n",
       "count       614.000000         614.000000  592.000000         600.00000   \n",
       "mean       5403.459283        1621.245798  146.412162         342.00000   \n",
       "std        6109.041673        2926.248369   85.587325          65.12041   \n",
       "min         150.000000           0.000000    9.000000          12.00000   \n",
       "25%        2877.500000           0.000000         NaN               NaN   \n",
       "50%        3812.500000        1188.500000         NaN               NaN   \n",
       "75%        5795.000000        2297.250000         NaN               NaN   \n",
       "max       81000.000000       41667.000000  700.000000         480.00000   \n",
       "\n",
       "       Credit_History  \n",
       "count      564.000000  \n",
       "mean         0.842199  \n",
       "std          0.364878  \n",
       "min          0.000000  \n",
       "25%               NaN  \n",
       "50%               NaN  \n",
       "75%               NaN  \n",
       "max          1.000000  "
      ]
     },
     "execution_count": 5,
     "metadata": {},
     "output_type": "execute_result"
    }
   ],
   "source": [
    "df.describe()"
   ]
  },
  {
   "cell_type": "markdown",
   "metadata": {},
   "source": [
    "### R"
   ]
  },
  {
   "cell_type": "code",
   "execution_count": 1,
   "metadata": {
    "collapsed": false
   },
   "outputs": [],
   "source": [
    " #设置mirror\n",
    "local(\n",
    "{\n",
    "r <- getOption(\"repos\")\n",
    "r[\"CRAN\"] <- \"http://mirrors.xmu.edu.cn/CRAN/\"\n",
    "options(repos=r)\n",
    "})\n"
   ]
  },
  {
   "cell_type": "code",
   "execution_count": 11,
   "metadata": {
    "collapsed": false
   },
   "outputs": [
    {
     "name": "stdout",
     "output_type": "stream",
     "text": [
      "\n",
      "  有二进制版本（将被安装），但源代码版本是后来的:\n",
      "        binary source\n",
      "ggplot2  2.1.0  2.2.1\n",
      "\n"
     ]
    },
    {
     "name": "stderr",
     "output_type": "stream",
     "text": [
      "also installing the dependencies 'colorspace', 'RColorBrewer', 'dichromat', 'munsell', 'labeling', 'gtable', 'plyr', 'reshape2', 'scales'\n",
      "\n"
     ]
    },
    {
     "name": "stdout",
     "output_type": "stream",
     "text": [
      "package 'colorspace' successfully unpacked and MD5 sums checked\n",
      "package 'RColorBrewer' successfully unpacked and MD5 sums checked\n",
      "package 'dichromat' successfully unpacked and MD5 sums checked\n",
      "package 'munsell' successfully unpacked and MD5 sums checked\n",
      "package 'labeling' successfully unpacked and MD5 sums checked\n",
      "package 'gtable' successfully unpacked and MD5 sums checked\n",
      "package 'plyr' successfully unpacked and MD5 sums checked\n",
      "package 'reshape2' successfully unpacked and MD5 sums checked\n",
      "package 'scales' successfully unpacked and MD5 sums checked\n",
      "package 'ggplot2' successfully unpacked and MD5 sums checked\n",
      "\n",
      "The downloaded binary packages are in\n",
      "\tC:\\Users\\HP\\AppData\\Local\\Temp\\RtmpgPWYPJ\\downloaded_packages\n",
      "\n",
      "  有二进制版本（将被安装），但源代码版本是后来的:\n",
      "      binary source\n",
      "dplyr  0.4.3  0.5.0\n",
      "\n",
      "package 'dplyr' successfully unpacked and MD5 sums checked\n",
      "\n",
      "The downloaded binary packages are in\n",
      "\tC:\\Users\\HP\\AppData\\Local\\Temp\\RtmpgPWYPJ\\downloaded_packages\n"
     ]
    }
   ],
   "source": [
    "install.packages(\"ggplot2\")\n",
    "install.packages(\"dplyr\")\n",
    "install.packages(\"Hmisc\")\n",
    "install.packages(\"psych\")"
   ]
  },
  {
   "cell_type": "code",
   "execution_count": 3,
   "metadata": {
    "collapsed": false
   },
   "outputs": [
    {
     "name": "stderr",
     "output_type": "stream",
     "text": [
      "\n",
      "Attaching package: 'dplyr'\n",
      "\n",
      "The following objects are masked from 'package:stats':\n",
      "\n",
      "    filter, lag\n",
      "\n",
      "The following objects are masked from 'package:base':\n",
      "\n",
      "    intersect, setdiff, setequal, union\n",
      "\n",
      "\n",
      "Attaching package: 'psych'\n",
      "\n",
      "The following objects are masked from 'package:ggplot2':\n",
      "\n",
      "    %+%, alpha\n",
      "\n",
      "Loading required package: lattice\n",
      "Loading required package: survival\n",
      "Loading required package: Formula\n",
      "\n",
      "Attaching package: 'Hmisc'\n",
      "\n",
      "The following object is masked from 'package:psych':\n",
      "\n",
      "    describe\n",
      "\n",
      "The following objects are masked from 'package:dplyr':\n",
      "\n",
      "    combine, src, summarize\n",
      "\n",
      "The following objects are masked from 'package:base':\n",
      "\n",
      "    format.pval, round.POSIXt, trunc.POSIXt, units\n",
      "\n"
     ]
    }
   ],
   "source": [
    "library(ggplot2)\n",
    "library(dplyr)\n",
    "library(psych)\n",
    "library(Hmisc)"
   ]
  },
  {
   "cell_type": "code",
   "execution_count": 4,
   "metadata": {
    "collapsed": false
   },
   "outputs": [],
   "source": [
    "train <- read.csv(\"C:/Users/HP/Desktop/train.csv\")"
   ]
  },
  {
   "cell_type": "code",
   "execution_count": 5,
   "metadata": {
    "collapsed": false
   },
   "outputs": [
    {
     "data": {
      "text/html": [
       "<table>\n",
       "<thead><tr><th></th><th scope=col>Loan_ID</th><th scope=col>Gender</th><th scope=col>Married</th><th scope=col>Dependents</th><th scope=col>Education</th><th scope=col>Self_Employed</th><th scope=col>ApplicantIncome</th><th scope=col>CoapplicantIncome</th><th scope=col>LoanAmount</th><th scope=col>Loan_Amount_Term</th><th scope=col>Credit_History</th><th scope=col>Property_Area</th><th scope=col>Loan_Status</th></tr></thead>\n",
       "<tbody>\n",
       "\t<tr><th scope=row>1</th><td>LP001002</td><td>Male</td><td>No</td><td>0</td><td>Graduate</td><td>No</td><td>5849</td><td>0</td><td>NA</td><td>360</td><td>1</td><td>Urban</td><td>Y</td></tr>\n",
       "\t<tr><th scope=row>2</th><td>LP001003</td><td>Male</td><td>Yes</td><td>1</td><td>Graduate</td><td>No</td><td>4583</td><td>1508</td><td>128</td><td>360</td><td>1</td><td>Rural</td><td>N</td></tr>\n",
       "\t<tr><th scope=row>3</th><td>LP001005</td><td>Male</td><td>Yes</td><td>0</td><td>Graduate</td><td>Yes</td><td>3000</td><td>0</td><td>66</td><td>360</td><td>1</td><td>Urban</td><td>Y</td></tr>\n",
       "\t<tr><th scope=row>4</th><td>LP001006</td><td>Male</td><td>Yes</td><td>0</td><td>Not Graduate</td><td>No</td><td>2583</td><td>2358</td><td>120</td><td>360</td><td>1</td><td>Urban</td><td>Y</td></tr>\n",
       "\t<tr><th scope=row>5</th><td>LP001008</td><td>Male</td><td>No</td><td>0</td><td>Graduate</td><td>No</td><td>6000</td><td>0</td><td>141</td><td>360</td><td>1</td><td>Urban</td><td>Y</td></tr>\n",
       "\t<tr><th scope=row>6</th><td>LP001011</td><td>Male</td><td>Yes</td><td>2</td><td>Graduate</td><td>Yes</td><td>5417</td><td>4196</td><td>267</td><td>360</td><td>1</td><td>Urban</td><td>Y</td></tr>\n",
       "</tbody>\n",
       "</table>\n"
      ],
      "text/latex": [
       "\\begin{tabular}{r|lllllllllllll}\n",
       "  & Loan_ID & Gender & Married & Dependents & Education & Self_Employed & ApplicantIncome & CoapplicantIncome & LoanAmount & Loan_Amount_Term & Credit_History & Property_Area & Loan_Status\\\\\n",
       "\\hline\n",
       "\t1 & LP001002 & Male & No & 0 & Graduate & No & 5849 & 0 & NA & 360 & 1 & Urban & Y\\\\\n",
       "\t2 & LP001003 & Male & Yes & 1 & Graduate & No & 4583 & 1508 & 128 & 360 & 1 & Rural & N\\\\\n",
       "\t3 & LP001005 & Male & Yes & 0 & Graduate & Yes & 3000 & 0 & 66 & 360 & 1 & Urban & Y\\\\\n",
       "\t4 & LP001006 & Male & Yes & 0 & Not Graduate & No & 2583 & 2358 & 120 & 360 & 1 & Urban & Y\\\\\n",
       "\t5 & LP001008 & Male & No & 0 & Graduate & No & 6000 & 0 & 141 & 360 & 1 & Urban & Y\\\\\n",
       "\t6 & LP001011 & Male & Yes & 2 & Graduate & Yes & 5417 & 4196 & 267 & 360 & 1 & Urban & Y\\\\\n",
       "\\end{tabular}\n"
      ],
      "text/plain": [
       "   Loan_ID Gender Married Dependents    Education Self_Employed ApplicantIncome\n",
       "1 LP001002   Male      No          0     Graduate            No            5849\n",
       "2 LP001003   Male     Yes          1     Graduate            No            4583\n",
       "3 LP001005   Male     Yes          0     Graduate           Yes            3000\n",
       "4 LP001006   Male     Yes          0 Not Graduate            No            2583\n",
       "5 LP001008   Male      No          0     Graduate            No            6000\n",
       "6 LP001011   Male     Yes          2     Graduate           Yes            5417\n",
       "  CoapplicantIncome LoanAmount Loan_Amount_Term Credit_History Property_Area\n",
       "1                 0         NA              360              1         Urban\n",
       "2              1508        128              360              1         Rural\n",
       "3                 0         66              360              1         Urban\n",
       "4              2358        120              360              1         Urban\n",
       "5                 0        141              360              1         Urban\n",
       "6              4196        267              360              1         Urban\n",
       "  Loan_Status\n",
       "1           Y\n",
       "2           N\n",
       "3           Y\n",
       "4           Y\n",
       "5           Y\n",
       "6           Y"
      ]
     },
     "execution_count": 5,
     "metadata": {},
     "output_type": "execute_result"
    }
   ],
   "source": [
    "head(train)"
   ]
  },
  {
   "cell_type": "code",
   "execution_count": 25,
   "metadata": {
    "collapsed": false
   },
   "outputs": [
    {
     "data": {
      "text/html": [
       "<table>\n",
       "<thead><tr><th></th><th scope=col>vars</th><th scope=col>n</th><th scope=col>mean</th><th scope=col>sd</th><th scope=col>median</th><th scope=col>trimmed</th><th scope=col>mad</th><th scope=col>min</th><th scope=col>max</th><th scope=col>range</th><th scope=col>skew</th><th scope=col>kurtosis</th><th scope=col>se</th></tr></thead>\n",
       "<tbody>\n",
       "\t<tr><th scope=row>Loan_ID*</th><td>1</td><td>614</td><td>307.5</td><td>177.3908</td><td>307.5</td><td>307.5</td><td>227.5791</td><td>1</td><td>614</td><td>613</td><td>0</td><td>-1.205865</td><td>7.158911</td></tr>\n",
       "\t<tr><th scope=row>Gender*</th><td>2</td><td>614</td><td>2.775244</td><td>0.4657673</td><td>3</td><td>2.869919</td><td>0</td><td>1</td><td>3</td><td>2</td><td>-1.923943</td><td>2.911371</td><td>0.01879684</td></tr>\n",
       "\t<tr><th scope=row>Married*</th><td>3</td><td>614</td><td>2.643322</td><td>0.4895109</td><td>3</td><td>2.684959</td><td>0</td><td>1</td><td>3</td><td>2</td><td>-0.7215253</td><td>-1.161864</td><td>0.01975505</td></tr>\n",
       "\t<tr><th scope=row>Dependents*</th><td>4</td><td>614</td><td>2.71987</td><td>1.039056</td><td>2</td><td>2.577236</td><td>0</td><td>1</td><td>5</td><td>4</td><td>0.8909613</td><td>-0.3811864</td><td>0.04193288</td></tr>\n",
       "\t<tr><th scope=row>Education*</th><td>5</td><td>614</td><td>1.218241</td><td>0.4133887</td><td>1</td><td>1.148374</td><td>0</td><td>1</td><td>2</td><td>1</td><td>1.360947</td><td>-0.1480562</td><td>0.01668301</td></tr>\n",
       "\t<tr><th scope=row>Self_Employed*</th><td>6</td><td>614</td><td>2.081433</td><td>0.4234719</td><td>2</td><td>2.042683</td><td>0</td><td>1</td><td>3</td><td>2</td><td>0.48926</td><td>2.174269</td><td>0.01708993</td></tr>\n",
       "\t<tr><th scope=row>ApplicantIncome</th><td>7</td><td>614</td><td>5403.459</td><td>6109.042</td><td>3812.5</td><td>4292.059</td><td>1822.857</td><td>150</td><td>81000</td><td>80850</td><td>6.507596</td><td>59.83387</td><td>246.5409</td></tr>\n",
       "\t<tr><th scope=row>CoapplicantIncome</th><td>8</td><td>614</td><td>1621.246</td><td>2926.248</td><td>1188.5</td><td>1154.847</td><td>1762.07</td><td>0</td><td>41667</td><td>41667</td><td>7.454967</td><td>83.97239</td><td>118.0938</td></tr>\n",
       "\t<tr><th scope=row>LoanAmount</th><td>9</td><td>592</td><td>146.4122</td><td>85.58733</td><td>128</td><td>133.1435</td><td>47.4432</td><td>9</td><td>700</td><td>691</td><td>2.663998</td><td>10.25886</td><td>3.517617</td></tr>\n",
       "\t<tr><th scope=row>Loan_Amount_Term</th><td>10</td><td>600</td><td>342</td><td>65.12041</td><td>360</td><td>358.375</td><td>0</td><td>12</td><td>480</td><td>468</td><td>-2.350615</td><td>6.576008</td><td>2.65853</td></tr>\n",
       "\t<tr><th scope=row>Credit_History</th><td>11</td><td>564</td><td>0.8421986</td><td>0.3648783</td><td>1</td><td>0.9269912</td><td>0</td><td>0</td><td>1</td><td>1</td><td>-1.87236</td><td>1.508417</td><td>0.01536415</td></tr>\n",
       "\t<tr><th scope=row>Property_Area*</th><td>12</td><td>614</td><td>2.037459</td><td>0.787482</td><td>2</td><td>2.046748</td><td>1.4826</td><td>1</td><td>3</td><td>2</td><td>-0.06587306</td><td>-1.387433</td><td>0.03178019</td></tr>\n",
       "\t<tr><th scope=row>Loan_Status*</th><td>13</td><td>614</td><td>1.687296</td><td>0.4639727</td><td>2</td><td>1.73374</td><td>0</td><td>1</td><td>2</td><td>1</td><td>-0.8060447</td><td>-1.352487</td><td>0.01872441</td></tr>\n",
       "</tbody>\n",
       "</table>\n"
      ],
      "text/latex": [
       "\\begin{tabular}{r|lllllllllllll}\n",
       "  & vars & n & mean & sd & median & trimmed & mad & min & max & range & skew & kurtosis & se\\\\\n",
       "\\hline\n",
       "\tLoan_ID* & 1 & 614 & 307.5 & 177.3908 & 307.5 & 307.5 & 227.5791 & 1 & 614 & 613 & 0 & -1.205865 & 7.158911\\\\\n",
       "\tGender* & 2 & 614 & 2.775244 & 0.4657673 & 3 & 2.869919 & 0 & 1 & 3 & 2 & -1.923943 & 2.911371 & 0.01879684\\\\\n",
       "\tMarried* & 3 & 614 & 2.643322 & 0.4895109 & 3 & 2.684959 & 0 & 1 & 3 & 2 & -0.7215253 & -1.161864 & 0.01975505\\\\\n",
       "\tDependents* & 4 & 614 & 2.71987 & 1.039056 & 2 & 2.577236 & 0 & 1 & 5 & 4 & 0.8909613 & -0.3811864 & 0.04193288\\\\\n",
       "\tEducation* & 5 & 614 & 1.218241 & 0.4133887 & 1 & 1.148374 & 0 & 1 & 2 & 1 & 1.360947 & -0.1480562 & 0.01668301\\\\\n",
       "\tSelf_Employed* & 6 & 614 & 2.081433 & 0.4234719 & 2 & 2.042683 & 0 & 1 & 3 & 2 & 0.48926 & 2.174269 & 0.01708993\\\\\n",
       "\tApplicantIncome & 7 & 614 & 5403.459 & 6109.042 & 3812.5 & 4292.059 & 1822.857 & 150 & 81000 & 80850 & 6.507596 & 59.83387 & 246.5409\\\\\n",
       "\tCoapplicantIncome & 8 & 614 & 1621.246 & 2926.248 & 1188.5 & 1154.847 & 1762.07 & 0 & 41667 & 41667 & 7.454967 & 83.97239 & 118.0938\\\\\n",
       "\tLoanAmount & 9 & 592 & 146.4122 & 85.58733 & 128 & 133.1435 & 47.4432 & 9 & 700 & 691 & 2.663998 & 10.25886 & 3.517617\\\\\n",
       "\tLoan_Amount_Term & 10 & 600 & 342 & 65.12041 & 360 & 358.375 & 0 & 12 & 480 & 468 & -2.350615 & 6.576008 & 2.65853\\\\\n",
       "\tCredit_History & 11 & 564 & 0.8421986 & 0.3648783 & 1 & 0.9269912 & 0 & 0 & 1 & 1 & -1.87236 & 1.508417 & 0.01536415\\\\\n",
       "\tProperty_Area* & 12 & 614 & 2.037459 & 0.787482 & 2 & 2.046748 & 1.4826 & 1 & 3 & 2 & -0.06587306 & -1.387433 & 0.03178019\\\\\n",
       "\tLoan_Status* & 13 & 614 & 1.687296 & 0.4639727 & 2 & 1.73374 & 0 & 1 & 2 & 1 & -0.8060447 & -1.352487 & 0.01872441\\\\\n",
       "\\end{tabular}\n"
      ],
      "text/plain": [
       "                  vars   n         mean           sd median      trimmed\n",
       "Loan_ID*             1 614  307.5000000  177.3908115  307.5  307.5000000\n",
       "Gender*              2 614    2.7752443    0.4657673    3.0    2.8699187\n",
       "Married*             3 614    2.6433225    0.4895109    3.0    2.6849593\n",
       "Dependents*          4 614    2.7198697    1.0390559    2.0    2.5772358\n",
       "Education*           5 614    1.2182410    0.4133887    1.0    1.1483740\n",
       "Self_Employed*       6 614    2.0814332    0.4234719    2.0    2.0426829\n",
       "ApplicantIncome      7 614 5403.4592834 6109.0416734 3812.5 4292.0589431\n",
       "CoapplicantIncome    8 614 1621.2457980 2926.2483692 1188.5 1154.8473984\n",
       "LoanAmount           9 592  146.4121622   85.5873252  128.0  133.1434599\n",
       "Loan_Amount_Term    10 600  342.0000000   65.1204099  360.0  358.3750000\n",
       "Credit_History      11 564    0.8421986    0.3648783    1.0    0.9269912\n",
       "Property_Area*      12 614    2.0374593    0.7874820    2.0    2.0467480\n",
       "Loan_Status*        13 614    1.6872964    0.4639727    2.0    1.7337398\n",
       "                        mad min   max range        skew   kurtosis           se\n",
       "Loan_ID*           227.5791   1   614   613  0.00000000 -1.2058648   7.15891053\n",
       "Gender*              0.0000   1     3     2 -1.92394251  2.9113713   0.01879684\n",
       "Married*             0.0000   1     3     2 -0.72152527 -1.1618638   0.01975505\n",
       "Dependents*          0.0000   1     5     4  0.89096131 -0.3811864   0.04193288\n",
       "Education*           0.0000   1     2     1  1.36094707 -0.1480562   0.01668301\n",
       "Self_Employed*       0.0000   1     3     2  0.48926005  2.1742694   0.01708993\n",
       "ApplicantIncome   1822.8567 150 81000 80850  6.50759579 59.8338687 246.54085748\n",
       "CoapplicantIncome 1762.0701   0 41667 41667  7.45496739 83.9723852 118.09377325\n",
       "LoanAmount          47.4432   9   700   691  2.66399829 10.2588649   3.51761740\n",
       "Loan_Amount_Term     0.0000  12   480   468 -2.35061518  6.5760077   2.65852960\n",
       "Credit_History       0.0000   0     1     1 -1.87236034  1.5084172   0.01536415\n",
       "Property_Area*       1.4826   1     3     2 -0.06587306 -1.3874327   0.03178019\n",
       "Loan_Status*         0.0000   1     2     1 -0.80604475 -1.3524867   0.01872441"
      ]
     },
     "execution_count": 25,
     "metadata": {},
     "output_type": "execute_result"
    }
   ],
   "source": [
    "data.frame(psych::describe(train))"
   ]
  },
  {
   "cell_type": "markdown",
   "metadata": {},
   "source": [
    "## 数据描述"
   ]
  },
  {
   "cell_type": "markdown",
   "metadata": {},
   "source": [
    "    主要包括对计量资料和分类变量的分布进行绘图描述。python主要运用到matplotlib库，R主要运用到ggplot2包。"
   ]
  },
  {
   "cell_type": "markdown",
   "metadata": {},
   "source": [
    "### python"
   ]
  },
  {
   "cell_type": "code",
   "execution_count": 6,
   "metadata": {
    "collapsed": false
   },
   "outputs": [
    {
     "data": {
      "text/plain": [
       "Semiurban    233\n",
       "Urban        202\n",
       "Rural        179\n",
       "Name: Property_Area, dtype: int64"
      ]
     },
     "execution_count": 6,
     "metadata": {},
     "output_type": "execute_result"
    }
   ],
   "source": [
    "#查看申请人地域分布\n",
    "df['Property_Area'].value_counts()"
   ]
  },
  {
   "cell_type": "code",
   "execution_count": 7,
   "metadata": {
    "collapsed": false
   },
   "outputs": [
    {
     "data": {
      "text/plain": [
       "<matplotlib.axes._subplots.AxesSubplot at 0x7eb7a58>"
      ]
     },
     "execution_count": 7,
     "metadata": {},
     "output_type": "execute_result"
    },
    {
     "data": {
      "image/png": "[encoded data removed]",
      "text/plain": [
       "<matplotlib.figure.Figure at 0x7e20518>"
      ]
     },
     "metadata": {},
     "output_type": "display_data"
    }
   ],
   "source": [
    "#查看申请人收入分布情况\n",
    "df['ApplicantIncome'].hist(bins=50)"
   ]
  },
  {
   "cell_type": "code",
   "execution_count": 8,
   "metadata": {
    "collapsed": false
   },
   "outputs": [
    {
     "data": {
      "text/plain": [
       "<matplotlib.axes._subplots.AxesSubplot at 0x7eb7c18>"
      ]
     },
     "execution_count": 8,
     "metadata": {},
     "output_type": "execute_result"
    },
    {
     "data": {
      "image/png": "[encoded data removed]",
      "text/plain": [
       "<matplotlib.figure.Figure at 0x99615f8>"
      ]
     },
     "metadata": {},
     "output_type": "display_data"
    }
   ],
   "source": [
    "#按教育情况分类，查看收入情况\n",
    "df.boxplot(column='ApplicantIncome', by = 'Education')"
   ]
  },
  {
   "cell_type": "code",
   "execution_count": 9,
   "metadata": {
    "collapsed": false
   },
   "outputs": [
    {
     "name": "stdout",
     "output_type": "stream",
     "text": [
      "Frequency Table for Credit History:\n",
      "0.0     89\n",
      "1.0    475\n",
      "Name: Credit_History, dtype: int64\n",
      "\n",
      "Probility of getting loan for each Credit History class:\n",
      "Credit_History\n",
      "0.0    0.078652\n",
      "1.0    0.795789\n",
      "Name: Loan_Status, dtype: float64\n"
     ]
    }
   ],
   "source": [
    "#查看申请人信用历史分布并绘图\n",
    "temp1 = df['Credit_History'].value_counts(ascending=True)\n",
    "temp2 = df.pivot_table(values='Loan_Status', index=['Credit_History'],aggfunc=lambda x: x.map({'Y':1,\"N\":0}).mean())\n",
    "print 'Frequency Table for Credit History:'\n",
    "print temp1\n",
    "\n",
    "print '\\nProbility of getting loan for each Credit History class:'\n",
    "print temp2"
   ]
  },
  {
   "cell_type": "code",
   "execution_count": 10,
   "metadata": {
    "collapsed": false
   },
   "outputs": [
    {
     "data": {
      "text/plain": [
       "<matplotlib.text.Text at 0x9e6f400>"
      ]
     },
     "execution_count": 10,
     "metadata": {},
     "output_type": "execute_result"
    },
    {
     "data": {
      "image/png": "[encoded data removed]",
      "text/plain": [
       "<matplotlib.figure.Figure at 0x9961ba8>"
      ]
     },
     "metadata": {},
     "output_type": "display_data"
    }
   ],
   "source": [
    "import matplotlib.pyplot as plt\n",
    "fig = plt.figure(figsize=(8,4))\n",
    "ax1 = fig.add_subplot(121)\n",
    "ax1.set_xlabel('Credit_History')\n",
    "ax1.set_ylabel('Count of Applicants')\n",
    "ax1.set_title('Applicants by Credit_History')\n",
    "temp1.plot(kind= 'bar')\n",
    "\n",
    "ax2 = fig.add_subplot(122)\n",
    "temp2.plot(kind = 'bar')\n",
    "ax2.set_xlabel('credit_history')\n",
    "ax2.set_ylabel('probability of getting loan')\n",
    "ax2.set_title('probability of getting loan by credit history')\n"
   ]
  },
  {
   "cell_type": "code",
   "execution_count": 11,
   "metadata": {
    "collapsed": false
   },
   "outputs": [
    {
     "data": {
      "text/plain": [
       "<matplotlib.axes._subplots.AxesSubplot at 0x99cc630>"
      ]
     },
     "execution_count": 11,
     "metadata": {},
     "output_type": "execute_result"
    },
    {
     "data": {
      "image/png": "[encoded data removed]",
      "text/plain": [
       "<matplotlib.figure.Figure at 0x815b048>"
      ]
     },
     "metadata": {},
     "output_type": "display_data"
    }
   ],
   "source": [
    "temp3 = pd.crosstab(df['Credit_History'], df['Loan_Status'])\n",
    "temp3.plot(kind='bar', stacked=True, color=['red','blue'],grid=False)"
   ]
  },
  {
   "cell_type": "markdown",
   "metadata": {},
   "source": [
    "### R"
   ]
  },
  {
   "cell_type": "code",
   "execution_count": 16,
   "metadata": {
    "collapsed": false
   },
   "outputs": [],
   "source": [
    "#申请人地域分布\n",
    "table(train$Property_Area)"
   ]
  },
  {
   "cell_type": "markdown",
   "metadata": {},
   "source": [
    "    Rural Semiurban     Urban \n",
    "      179       233       202 "
   ]
  },
  {
   "cell_type": "code",
   "execution_count": 7,
   "metadata": {
    "collapsed": true
   },
   "outputs": [],
   "source": [
    "#申请人收入分布情况\n",
    "ggplot(data=train, aes(x=ApplicantIncome)) + geom_histogram(bins = 50, fill = \"blue\")"
   ]
  },
  {
   "cell_type": "markdown",
   "metadata": {},
   "source": [
    "![fig](F:/python/data scientist using python & R/Rplot1.png)"
   ]
  },
  {
   "cell_type": "code",
   "execution_count": 31,
   "metadata": {
    "collapsed": false,
    "scrolled": true
   },
   "outputs": [
    {
     "data": {
      "application/pdf": "[encoded data removed]",
      "image/jpeg": "[encoded data removed]",
      "image/png": "[encoded data removed]",
      "text/plain": [
       "plot without title"
      ]
     },
     "metadata": {
      "image/svg+xml": {
       "isolated": true
      }
     },
     "output_type": "display_data"
    }
   ],
   "source": [
    "ggplot(data=train, aes(x=Education, y=ApplicantIncome)) + geom_boxplot()"
   ]
  },
  {
   "cell_type": "markdown",
   "metadata": {
    "collapsed": true
   },
   "source": [
    "## 数据处理"
   ]
  },
  {
   "cell_type": "markdown",
   "metadata": {},
   "source": [
    "    主要包括以下方面：\n",
    "1. 缺失值处理\n",
    "2. 极值处理"
   ]
  },
  {
   "cell_type": "markdown",
   "metadata": {},
   "source": [
    "### python"
   ]
  },
  {
   "cell_type": "code",
   "execution_count": 12,
   "metadata": {
    "collapsed": false,
    "scrolled": true
   },
   "outputs": [
    {
     "data": {
      "text/plain": [
       "Loan_ID               0\n",
       "Gender               13\n",
       "Married               3\n",
       "Dependents           15\n",
       "Education             0\n",
       "Self_Employed        32\n",
       "ApplicantIncome       0\n",
       "CoapplicantIncome     0\n",
       "LoanAmount           22\n",
       "Loan_Amount_Term     14\n",
       "Credit_History       50\n",
       "Property_Area         0\n",
       "Loan_Status           0\n",
       "dtype: int64"
      ]
     },
     "execution_count": 12,
     "metadata": {},
     "output_type": "execute_result"
    }
   ],
   "source": [
    "# 检测缺失值\n",
    "df.apply(lambda x: sum(x.isnull()), axis = 0)"
   ]
  },
  {
   "cell_type": "code",
   "execution_count": 13,
   "metadata": {
    "collapsed": true
   },
   "outputs": [],
   "source": [
    "#计量资料用均值、计数资料用众数填补\n",
    "df['LoanAmount'].fillna(df['LoanAmount'].mean(),inplace=True)"
   ]
  },
  {
   "cell_type": "code",
   "execution_count": 26,
   "metadata": {
    "collapsed": false
   },
   "outputs": [
    {
     "data": {
      "text/plain": [
       "Yes    398\n",
       "No     213\n",
       "Name: Married, dtype: int64"
      ]
     },
     "execution_count": 26,
     "metadata": {},
     "output_type": "execute_result"
    }
   ],
   "source": [
    "#查看分布\n",
    "df['Self_Employed'].value_counts()\n",
    "df['Credit_History'].value_counts()\n",
    "df['Gender'].value_counts() \n",
    "df['Loan_Amount_Term'].value_counts()\n",
    "df['Dependents'].value_counts()\n",
    "df['Married'].value_counts()"
   ]
  },
  {
   "cell_type": "code",
   "execution_count": 15,
   "metadata": {
    "collapsed": false
   },
   "outputs": [],
   "source": [
    "\n",
    "df['Loan_Amount_Term'].fillna(360.0,inplace=True)"
   ]
  },
  {
   "cell_type": "code",
   "execution_count": 16,
   "metadata": {
    "collapsed": true
   },
   "outputs": [],
   "source": [
    "df['Gender'].fillna(2,inplace=True)"
   ]
  },
  {
   "cell_type": "code",
   "execution_count": 22,
   "metadata": {
    "collapsed": false
   },
   "outputs": [],
   "source": [
    "df['Credit_History'].fillna(1.0,inplace=True)\n",
    "df['Dependents'].fillna(0,inplace=True)"
   ]
  },
  {
   "cell_type": "code",
   "execution_count": 23,
   "metadata": {
    "collapsed": false
   },
   "outputs": [
    {
     "name": "stdout",
     "output_type": "stream",
     "text": [
      "Education      Graduate  Not Graduate\n",
      "Self_Employed                        \n",
      "NO                126.5         123.0\n",
      "No                132.0         115.0\n",
      "Yes               152.0         130.0\n"
     ]
    }
   ],
   "source": [
    "table = df.pivot_table(values='LoanAmount',index='Self_Employed',columns='Education',aggfunc=np.median)\n",
    "print(table)"
   ]
  },
  {
   "cell_type": "code",
   "execution_count": 27,
   "metadata": {
    "collapsed": true
   },
   "outputs": [],
   "source": [
    "df['Self_Employed'].fillna('NO',inplace=True)\n",
    "df['Married'].fillna('YES',inplace=True)"
   ]
  },
  {
   "cell_type": "code",
   "execution_count": 28,
   "metadata": {
    "collapsed": false
   },
   "outputs": [
    {
     "data": {
      "text/plain": [
       "Loan_ID              0\n",
       "Gender               0\n",
       "Married              0\n",
       "Dependents           0\n",
       "Education            0\n",
       "Self_Employed        0\n",
       "ApplicantIncome      0\n",
       "CoapplicantIncome    0\n",
       "LoanAmount           0\n",
       "Loan_Amount_Term     0\n",
       "Credit_History       0\n",
       "Property_Area        0\n",
       "Loan_Status          0\n",
       "dtype: int64"
      ]
     },
     "execution_count": 28,
     "metadata": {},
     "output_type": "execute_result"
    }
   ],
   "source": [
    "#最后查看填补结果\n",
    "df.apply(lambda x: sum(x.isnull()), axis = 0)"
   ]
  },
  {
   "cell_type": "code",
   "execution_count": 29,
   "metadata": {
    "collapsed": false
   },
   "outputs": [
    {
     "data": {
      "text/plain": [
       "<matplotlib.axes._subplots.AxesSubplot at 0xa172080>"
      ]
     },
     "execution_count": 29,
     "metadata": {},
     "output_type": "execute_result"
    },
    {
     "data": {
      "image/png": "[encoded data removed]",
      "text/plain": [
       "<matplotlib.figure.Figure at 0x99616a0>"
      ]
     },
     "metadata": {},
     "output_type": "display_data"
    }
   ],
   "source": [
    "#数据变换\n",
    "#转换为收入log值\n",
    "df['LoanAmount_log'] = np.log(df['LoanAmount'])\n",
    "df['LoanAmount_log'].hist(bins=20)"
   ]
  },
  {
   "cell_type": "code",
   "execution_count": 30,
   "metadata": {
    "collapsed": false
   },
   "outputs": [
    {
     "data": {
      "text/plain": [
       "<matplotlib.axes._subplots.AxesSubplot at 0x9a77fd0>"
      ]
     },
     "execution_count": 30,
     "metadata": {},
     "output_type": "execute_result"
    },
    {
     "data": {
      "image/png": "[encoded data removed]",
      "text/plain": [
       "<matplotlib.figure.Figure at 0xa3eac50>"
      ]
     },
     "metadata": {},
     "output_type": "display_data"
    }
   ],
   "source": [
    "df['TotalIncome'] = df['ApplicantIncome'] + df['CoapplicantIncome']\n",
    "df['TotalIncome_log'] = np.log(df['TotalIncome'])\n",
    "df['LoanAmount_log'].hist(bins=20) "
   ]
  },
  {
   "cell_type": "markdown",
   "metadata": {},
   "source": [
    "### R"
   ]
  },
  {
   "cell_type": "code",
   "execution_count": null,
   "metadata": {
    "collapsed": true
   },
   "outputs": [],
   "source": [
    "#查看缺失情况\n",
    "pMiss <- function(x) {\n",
    "    sum(is.na(x))/length(x)*100 }\n",
    "apply(train, 2, pMiss)"
   ]
  },
  {
   "cell_type": "markdown",
   "metadata": {},
   "source": [
    "          Loan_ID            Gender           Married        Dependents         Education \n",
    "         0.000000          0.000000          0.000000          0.000000          0.000000 \n",
    "    Self_Employed   ApplicantIncome CoapplicantIncome        LoanAmount  Loan_Amount_Term \n",
    "         0.000000          0.000000          0.000000          3.583062          2.280130 \n",
    "   Credit_History     Property_Area       Loan_Status \n",
    "         8.143322          0.000000          0.000000 "
   ]
  },
  {
   "cell_type": "code",
   "execution_count": 26,
   "metadata": {
    "collapsed": false
   },
   "outputs": [],
   "source": [
    "library(Hmisc)\n",
    "train$LoanAmount <- Hmisc::impute(train$LoanAmount, mean)"
   ]
  },
  {
   "cell_type": "code",
   "execution_count": 27,
   "metadata": {
    "collapsed": true
   },
   "outputs": [],
   "source": [
    "train$Loan_Amount_Term <- impute(train$Loan_Amount_Term, 360.0)\n",
    "train$Credit_History <- impute(train$Credit_History, 1.0)\n",
    "train$Self_Employed <- impute(train$Self_Employed, \"NO\")\n",
    "train$Married <- impute(train$Married, \"YES\")\n",
    "train$Gender <- impute(train$Gender, 2)"
   ]
  },
  {
   "cell_type": "code",
   "execution_count": 28,
   "metadata": {
    "collapsed": false
   },
   "outputs": [],
   "source": [
    "#数据变换\n",
    "#转换为收入log值\n",
    "library(dplyr)\n",
    "train = mutate(train, LoanAmount_log = log(LoanAmount), TotalIncome = ApplicantIncome + CoapplicantIncome,\n",
    "TotalIncome_log =log(TotalIncome))\n",
    "#apply(train, 2, pMiss)"
   ]
  },
  {
   "cell_type": "markdown",
   "metadata": {},
   "source": [
    "          Loan_ID            Gender           Married        Dependents         Education \n",
    "                0                 0                 0                 0                 0 \n",
    "    Self_Employed   ApplicantIncome CoapplicantIncome        LoanAmount  Loan_Amount_Term \n",
    "                0                 0                 0                 0                 0 \n",
    "   Credit_History     Property_Area       Loan_Status    LoanAmount_log       TotalIncome \n",
    "                0                 0                 0                 0                 0 \n",
    "  TotalIncome_log \n",
    "                0 "
   ]
  },
  {
   "cell_type": "markdown",
   "metadata": {},
   "source": [
    "## 建立预测模型"
   ]
  },
  {
   "cell_type": "markdown",
   "metadata": {},
   "source": [
    "### python"
   ]
  },
  {
   "cell_type": "code",
   "execution_count": 31,
   "metadata": {
    "collapsed": false
   },
   "outputs": [
    {
     "data": {
      "text/plain": [
       "Loan_ID               object\n",
       "Gender                 int64\n",
       "Married                int64\n",
       "Dependents             int64\n",
       "Education              int64\n",
       "Self_Employed          int64\n",
       "ApplicantIncome        int64\n",
       "CoapplicantIncome    float64\n",
       "LoanAmount           float64\n",
       "Loan_Amount_Term     float64\n",
       "Credit_History       float64\n",
       "Property_Area          int64\n",
       "Loan_Status            int64\n",
       "LoanAmount_log       float64\n",
       "TotalIncome          float64\n",
       "TotalIncome_log      float64\n",
       "dtype: object"
      ]
     },
     "execution_count": 31,
     "metadata": {},
     "output_type": "execute_result"
    }
   ],
   "source": [
    "#转变所有的分类变量为数值变量\n",
    "from sklearn.preprocessing import LabelEncoder\n",
    "var_mod = ['Gender','Married','Dependents','Education','Self_Employed','Property_Area','Loan_Status']\n",
    "le = LabelEncoder()\n",
    "for i in var_mod:\n",
    "    df[i] = le.fit_transform(df[i])\n",
    "df.dtypes"
   ]
  },
  {
   "cell_type": "code",
   "execution_count": 37,
   "metadata": {
    "collapsed": true
   },
   "outputs": [],
   "source": [
    "#Import models from scikit learn module:\n",
    "from sklearn.linear_model import LogisticRegression\n",
    "from sklearn.cross_validation import KFold   #For K-fold cross validation\n",
    "from sklearn.ensemble import RandomForestClassifier\n",
    "from sklearn.tree import DecisionTreeClassifier, export_graphviz\n",
    "from sklearn import metrics\n",
    "\n",
    "#Generic function for making a classification model and accessing performance:\n",
    "def classification_model(model, data, predictors, outcome):\n",
    "  #Fit the model:\n",
    "  model.fit(data[predictors],data[outcome])\n",
    "  \n",
    "  #Make predictions on training set:\n",
    "  predictions = model.predict(data[predictors])\n",
    "  \n",
    "  #Print accuracy\n",
    "  accuracy = metrics.accuracy_score(predictions,data[outcome])\n",
    "  print \"Accuracy : %s\" % \"{0:.3%}\".format(accuracy)\n",
    "\n",
    "  #Perform k-fold cross-validation with 5 folds\n",
    "  kf = KFold(data.shape[0], n_folds=5)\n",
    "  error = []\n",
    "  for train, test in kf:\n",
    "    # Filter training data\n",
    "    train_predictors = (data[predictors].iloc[train,:])\n",
    "    \n",
    "    # The target we're using to train the algorithm.\n",
    "    train_target = data[outcome].iloc[train]\n",
    "    \n",
    "    # Training the algorithm using the predictors and target.\n",
    "    model.fit(train_predictors, train_target)\n",
    "    \n",
    "    #Record error from each cross-validation run\n",
    "    error.append(model.score(data[predictors].iloc[test,:], data[outcome].iloc[test]))\n",
    " \n",
    "  print \"Cross-Validation Score : %s\" % \"{0:.3%}\".format(np.mean(error))\n",
    "\n",
    "  #Fit the model again so that it can be refered outside the function:\n",
    "  model.fit(data[predictors],data[outcome]) "
   ]
  },
  {
   "cell_type": "markdown",
   "metadata": {},
   "source": [
    "### R"
   ]
  },
  {
   "cell_type": "code",
   "execution_count": null,
   "metadata": {
    "collapsed": true
   },
   "outputs": [],
   "source": [
    "library(rpart)\n",
    "library(e1071)\n",
    "library(rpart.plot)\n",
    "library(caret)\n",
    "library(Metrics)"
   ]
  },
  {
   "cell_type": "code",
   "execution_count": 31,
   "metadata": {
    "collapsed": false
   },
   "outputs": [],
   "source": [
    "test <- read.csv(\"C:/Users/HP/Desktop/test.csv\")"
   ]
  },
  {
   "cell_type": "markdown",
   "metadata": {},
   "source": [
    "## Logistic"
   ]
  },
  {
   "cell_type": "markdown",
   "metadata": {},
   "source": [
    "### python"
   ]
  },
  {
   "cell_type": "code",
   "execution_count": 38,
   "metadata": {
    "collapsed": false,
    "scrolled": true
   },
   "outputs": [
    {
     "name": "stdout",
     "output_type": "stream",
     "text": [
      "Accuracy : 80.945%\n",
      "Cross-Validation Score : 80.946%\n"
     ]
    }
   ],
   "source": [
    "outcome_var = 'Loan_Status'\n",
    "model = LogisticRegression()\n",
    "predictor_var = ['Credit_History']\n",
    "classification_model(model, df,predictor_var,outcome_var)"
   ]
  },
  {
   "cell_type": "markdown",
   "metadata": {},
   "source": [
    "### R"
   ]
  },
  {
   "cell_type": "code",
   "execution_count": null,
   "metadata": {
    "collapsed": true
   },
   "outputs": [],
   "source": [
    "#设置控制参数\n",
    "fitControl <- trainControl(method = \"cv\", number = 5)\n",
    "\n",
    "#拟合模型\n",
    "logistic_model <- train(Loan_Status ~., data= train, method = \"glmnet\", trControl = fitControl, family=\"binormal\")\n",
    "print(logistic_model)"
   ]
  },
  {
   "cell_type": "code",
   "execution_count": null,
   "metadata": {
    "collapsed": true
   },
   "outputs": [],
   "source": [
    "#选择最优模型\n",
    "logistic_model <- train(Loan_Status ~., data= train, method = \"glmnet\", trControl = fitControl, family=\"binormal\")\n",
    "#模型预测\n",
    "logistic_predict <- predict(logistic_model, newdata= test,type = \"vector\")"
   ]
  },
  {
   "cell_type": "code",
   "execution_count": null,
   "metadata": {
    "collapsed": true
   },
   "outputs": [],
   "source": [
    "#模型评价\n",
    "confusionMatrix(train$Loan_Status, logistic_model)"
   ]
  },
  {
   "cell_type": "markdown",
   "metadata": {},
   "source": [
    "## 决策树"
   ]
  },
  {
   "cell_type": "markdown",
   "metadata": {},
   "source": [
    "### python"
   ]
  },
  {
   "cell_type": "code",
   "execution_count": 39,
   "metadata": {
    "collapsed": false
   },
   "outputs": [
    {
     "name": "stdout",
     "output_type": "stream",
     "text": [
      "Accuracy : 80.945%\n",
      "Cross-Validation Score : 80.946%\n"
     ]
    }
   ],
   "source": [
    "model = DecisionTreeClassifier()\n",
    "predictor_var = ['Credit_History','Gender','Married','Education']\n",
    "classification_model(model, df,predictor_var,outcome_var)"
   ]
  },
  {
   "cell_type": "markdown",
   "metadata": {},
   "source": [
    "### R"
   ]
  },
  {
   "cell_type": "code",
   "execution_count": 34,
   "metadata": {
    "collapsed": false
   },
   "outputs": [
    {
     "ename": "ERROR",
     "evalue": "Error in grepl(\"\\n\", lines, fixed = TRUE): '<b7>'多字节字符串有错\n",
     "output_type": "error",
     "traceback": [
      "Error in grepl(\"\\n\", lines, fixed = TRUE): '<b7>'多字节字符串有错\n"
     ]
    }
   ],
   "source": [
    "#设置控制参数\n",
    "fitControl <- trainControl(method = \"cv\", number = 5)\n",
    "cartGrid <- expand.grid(.cp=(1:50)*0.01)\n",
    "#拟合模型\n",
    "tree_model <- train(Loan_Status ~Credit_History+Gender+Married+Education, data= train, method = \"rpart\", trControl = fitControl, tuneGrid = cartGrid)\n",
    "print(tree_model)"
   ]
  },
  {
   "cell_type": "code",
   "execution_count": null,
   "metadata": {
    "collapsed": true
   },
   "outputs": [],
   "source": [
    "#选择最优决策树模型\n",
    "main_tree <- rpart(Loan_Status ~., data= train, control = rpart.control(cp=0.36))"
   ]
  },
  {
   "cell_type": "code",
   "execution_count": null,
   "metadata": {
    "collapsed": true
   },
   "outputs": [],
   "source": [
    "#绘制决策树\n",
    "prp(main_tree)"
   ]
  },
  {
   "cell_type": "code",
   "execution_count": null,
   "metadata": {
    "collapsed": true
   },
   "outputs": [],
   "source": [
    "#模型预测\n",
    "pre_score <- predict(main_tree,type = \"vector\")\n",
    "#模型评价\n",
    "xtabs(~ pre_score + train$Loan_Status)"
   ]
  },
  {
   "cell_type": "markdown",
   "metadata": {},
   "source": [
    "## 随机森林"
   ]
  },
  {
   "cell_type": "markdown",
   "metadata": {},
   "source": [
    "### python"
   ]
  },
  {
   "cell_type": "code",
   "execution_count": 40,
   "metadata": {
    "collapsed": false
   },
   "outputs": [
    {
     "name": "stdout",
     "output_type": "stream",
     "text": [
      "Accuracy : 87.296%\n",
      "Cross-Validation Score : 76.549%\n"
     ]
    }
   ],
   "source": [
    "#随机森林\n",
    "model = RandomForestClassifier(n_estimators=100)\n",
    "predictor_var = ['Gender', 'Married', 'Dependents', 'Education',\n",
    "       'Self_Employed', 'Loan_Amount_Term', 'Credit_History', 'Property_Area']\n",
    "classification_model(model, df,predictor_var,outcome_var)\n"
   ]
  },
  {
   "cell_type": "code",
   "execution_count": 36,
   "metadata": {
    "collapsed": false
   },
   "outputs": [
    {
     "name": "stdout",
     "output_type": "stream",
     "text": [
      "Credit_History      0.427036\n",
      "Dependents          0.142901\n",
      "Property_Area       0.102788\n",
      "Loan_Amount_Term    0.100776\n",
      "Self_Employed       0.077128\n",
      "Gender              0.055985\n",
      "Education           0.048056\n",
      "Married             0.045331\n",
      "dtype: float64\n"
     ]
    }
   ],
   "source": [
    "#变量重要性得分\n",
    "featimp = pd.Series(model.feature_importances_, index=predictor_var).sort_values(ascending=False)\n",
    "print featimp"
   ]
  },
  {
   "cell_type": "code",
   "execution_count": 41,
   "metadata": {
    "collapsed": false
   },
   "outputs": [
    {
     "name": "stdout",
     "output_type": "stream",
     "text": [
      "Accuracy : 80.945%\n",
      "Cross-Validation Score : 80.458%\n"
     ]
    }
   ],
   "source": [
    "model = RandomForestClassifier(n_estimators=25, min_samples_split=25, max_depth=7, max_features=1)\n",
    "predictor_var = ['Credit_History','Dependents','Property_Area']\n",
    "classification_model(model, df,predictor_var,outcome_var)"
   ]
  },
  {
   "cell_type": "markdown",
   "metadata": {
    "collapsed": true
   },
   "source": [
    "### R"
   ]
  },
  {
   "cell_type": "code",
   "execution_count": null,
   "metadata": {
    "collapsed": true
   },
   "outputs": [],
   "source": [
    "library(randomForest)"
   ]
  },
  {
   "cell_type": "code",
   "execution_count": null,
   "metadata": {
    "collapsed": true
   },
   "outputs": [],
   "source": [
    "#设置参数\n",
    "control <- trainControl(method = \"cv\", number = 5)\n",
    "#随机森林\n",
    "rf_model <- train(Loan_Status ~Credit_History+Dependents+Property_Area, data= train, method = \"parRF\",\n",
    "                 trControl= control, prox = TRUE, allowParallel= TRUE)\n",
    "print(rf_model)\n"
   ]
  },
  {
   "cell_type": "code",
   "execution_count": null,
   "metadata": {
    "collapsed": true
   },
   "outputs": [],
   "source": [
    "#选择最优决策树\n",
    "forest_model <- randomForest(Loan_Status ~Credit_History+Dependents+Property_Area, data= train,\n",
    "                            mtry = 15, ntree = 1000)\n",
    "print(forest_model)"
   ]
  },
  {
   "cell_type": "code",
   "execution_count": null,
   "metadata": {
    "collapsed": true
   },
   "outputs": [],
   "source": [
    "#查看变量重要性排序\n",
    "varImplot(forest_model)"
   ]
  },
  {
   "cell_type": "code",
   "execution_count": null,
   "metadata": {
    "collapsed": true
   },
   "outputs": [],
   "source": [
    "#模型预测\n",
    "main_predict <- predict(forest_model, newdata= test,type = \"vector\")\n"
   ]
  },
  {
   "cell_type": "code",
   "execution_count": null,
   "metadata": {
    "collapsed": true
   },
   "outputs": [],
   "source": [
    "#模型评价\n",
    "confusionMatrix(train$Loan_Status, main_predict)"
   ]
  }
 ],
 "metadata": {
  "anaconda-cloud": {},
  "kernelspec": {
   "display_name": "Python [Root]",
   "language": "python",
   "name": "Python [Root]"
  },
  "language_info": {
   "codemirror_mode": {
    "name": "ipython",
    "version": 2
   },
   "file_extension": ".py",
   "mimetype": "text/x-python",
   "name": "python",
   "nbconvert_exporter": "python",
   "pygments_lexer": "ipython2",
   "version": "2.7.12"
  },
  "toc": {
   "colors": {
    "hover_highlight": "#DAA520",
    "navigate_num": "#000000",
    "navigate_text": "#333333",
    "running_highlight": "#FF0000",
    "selected_highlight": "#FFD700",
    "sidebar_border": "#EEEEEE",
    "wrapper_background": "#FFFFFF"
   },
   "moveMenuLeft": true,
   "nav_menu": {
    "height": "408px",
    "width": "252px"
   },
   "navigate_menu": true,
   "number_sections": true,
   "sideBar": true,
   "threshold": 4,
   "toc_cell": true,
   "toc_section_display": "block",
   "toc_window_display": true,
   "widenNotebook": false
  }
 },
 "nbformat": 4,
 "nbformat_minor": 0
}
